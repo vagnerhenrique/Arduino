{
  "nbformat": 4,
  "nbformat_minor": 0,
  "metadata": {
    "colab": {
      "name": "GPUTeste.ipynb",
      "provenance": [],
      "include_colab_link": true
    },
    "kernelspec": {
      "name": "python3",
      "display_name": "Python 3"
    },
    "accelerator": "GPU"
  },
  "cells": [
    {
      "cell_type": "markdown",
      "metadata": {
        "id": "view-in-github",
        "colab_type": "text"
      },
      "source": [
        "<a href=\"https://colab.research.google.com/github/vagnerhenrique/Arduino/blob/master/GPUTeste.ipynb\" target=\"_parent\"><img src=\"https://colab.research.google.com/assets/colab-badge.svg\" alt=\"Open In Colab\"/></a>"
      ]
    },
    {
      "cell_type": "code",
      "metadata": {
        "id": "Vfvi2SULgFoO",
        "colab_type": "code",
        "colab": {
          "base_uri": "https://localhost:8080/",
          "height": 357
        },
        "outputId": "68293bd0-52f4-451d-e576-705286a385fc"
      },
      "source": [
        "!nvidia-smi"
      ],
      "execution_count": null,
      "outputs": [
        {
          "output_type": "stream",
          "text": [
            "Fri Sep  4 20:34:02 2020       \n",
            "+-----------------------------------------------------------------------------+\n",
            "| NVIDIA-SMI 450.66       Driver Version: 418.67       CUDA Version: 10.1     |\n",
            "|-------------------------------+----------------------+----------------------+\n",
            "| GPU  Name        Persistence-M| Bus-Id        Disp.A | Volatile Uncorr. ECC |\n",
            "| Fan  Temp  Perf  Pwr:Usage/Cap|         Memory-Usage | GPU-Util  Compute M. |\n",
            "|                               |                      |               MIG M. |\n",
            "|===============================+======================+======================|\n",
            "|   0  Tesla T4            Off  | 00000000:00:04.0 Off |                    0 |\n",
            "| N/A   41C    P8     9W /  70W |      0MiB / 15079MiB |      0%      Default |\n",
            "|                               |                      |                 ERR! |\n",
            "+-------------------------------+----------------------+----------------------+\n",
            "                                                                               \n",
            "+-----------------------------------------------------------------------------+\n",
            "| Processes:                                                                  |\n",
            "|  GPU   GI   CI        PID   Type   Process name                  GPU Memory |\n",
            "|        ID   ID                                                   Usage      |\n",
            "|=============================================================================|\n",
            "|  No running processes found                                                 |\n",
            "+-----------------------------------------------------------------------------+\n"
          ],
          "name": "stdout"
        }
      ]
    },
    {
      "cell_type": "code",
      "metadata": {
        "id": "Hd-fFxWIiauC",
        "colab_type": "code",
        "colab": {
          "base_uri": "https://localhost:8080/",
          "height": 187
        },
        "outputId": "01fe8606-0696-4951-edb9-13c10c82e429"
      },
      "source": [
        "!pip install git+git://github.com/andreinechaev/nvcc4jupyter.git\n"
      ],
      "execution_count": null,
      "outputs": [
        {
          "output_type": "stream",
          "text": [
            "Collecting git+git://github.com/andreinechaev/nvcc4jupyter.git\n",
            "  Cloning git://github.com/andreinechaev/nvcc4jupyter.git to /tmp/pip-req-build-w8jf7itq\n",
            "  Running command git clone -q git://github.com/andreinechaev/nvcc4jupyter.git /tmp/pip-req-build-w8jf7itq\n",
            "Building wheels for collected packages: NVCCPlugin\n",
            "  Building wheel for NVCCPlugin (setup.py) ... \u001b[?25l\u001b[?25hdone\n",
            "  Created wheel for NVCCPlugin: filename=NVCCPlugin-0.0.2-cp36-none-any.whl size=4307 sha256=a4f5e1514a51060ecda49dc6701674a71b43c07111773e8e51f75fcba02acac4\n",
            "  Stored in directory: /tmp/pip-ephem-wheel-cache-p0sbt755/wheels/10/c2/05/ca241da37bff77d60d31a9174f988109c61ba989e4d4650516\n",
            "Successfully built NVCCPlugin\n",
            "Installing collected packages: NVCCPlugin\n",
            "Successfully installed NVCCPlugin-0.0.2\n"
          ],
          "name": "stdout"
        }
      ]
    },
    {
      "cell_type": "code",
      "metadata": {
        "id": "0ANk0Sj1ifXx",
        "colab_type": "code",
        "colab": {
          "base_uri": "https://localhost:8080/",
          "height": 51
        },
        "outputId": "218731a7-ee05-4e29-ba67-210c12cae7ca"
      },
      "source": [
        "%load_ext nvcc_plugin\n"
      ],
      "execution_count": null,
      "outputs": [
        {
          "output_type": "stream",
          "text": [
            "created output directory at /content/src\n",
            "Out bin /content/result.out\n"
          ],
          "name": "stdout"
        }
      ]
    },
    {
      "cell_type": "code",
      "metadata": {
        "id": "qS576aR2iLil",
        "colab_type": "code",
        "colab": {
          "base_uri": "https://localhost:8080/",
          "height": 51
        },
        "outputId": "b30163ad-7fba-4fd3-dad5-2acd04bc5817"
      },
      "source": [
        "%%cu\n",
        "#include <stdio.h>\n",
        "#define N  2000\n",
        "inline cudaError_t checkCudaErr(cudaError_t err, const char* msg) {\n",
        "  if (err != cudaSuccess) {\n",
        "    fprintf(stderr, \"CUDA Runtime error at %s: %s\\n\", msg, cudaGetErrorString(err));\n",
        "  }\n",
        "  return err;\n",
        "}\n",
        "__global__ void matrixMulGPU( int * a, int * b, int * c )\n",
        "{\n",
        "  /*\n",
        "   * Build out this kernel.\n",
        "   */\n",
        "    int row = threadIdx.y + blockIdx.y * blockDim.y;\n",
        "    int col = threadIdx.x + blockIdx.x * blockDim.x;\n",
        "    \n",
        "    int val = 0;\n",
        "    if (row < N && col < N) {\n",
        "      for (int i = 0; i < N; ++i) {\n",
        "         val += a[row * N + i] * b[i * N + col];\n",
        "       }\n",
        "    \n",
        "      c[row * N + col] = val;\n",
        "    }\n",
        "}\n",
        "/*\n",
        " * This CPU function already works, and will run to create a solution matrix\n",
        " * against which to verify your work building out the matrixMulGPU kernel.\n",
        " */\n",
        "void matrixMulCPU( int * a, int * b, int * c )\n",
        "{\n",
        "  int val = 0;\n",
        "for( int row = 0; row < N; ++row )\n",
        "    for( int col = 0; col < N; ++col )\n",
        "    {\n",
        "      val = 0;\n",
        "      for ( int k = 0; k < N; ++k )\n",
        "        val += a[row * N + k] * b[k * N + col];\n",
        "      c[row * N + col] = val;\n",
        "    }\n",
        "}\n",
        "int main()\n",
        "{\n",
        "  int *a, *b, *c_cpu, *c_gpu; // Allocate a solution matrix for both the CPU and the GPU operations\n",
        "int size = N * N * sizeof (int); // Number of bytes of an N x N matrix\n",
        "// Allocate memory\n",
        "  cudaMallocManaged (&a, size);\n",
        "  cudaMallocManaged (&b, size);\n",
        "  cudaMallocManaged (&c_cpu, size);\n",
        "  cudaMallocManaged (&c_gpu, size);\n",
        "// Initialize memory; create 2D matrices\n",
        "  for( int row = 0; row < N; ++row )\n",
        "    for( int col = 0; col < N; ++col )\n",
        "    {\n",
        "      a[row*N + col] = row;\n",
        "      b[row*N + col] = col+2;\n",
        "      c_cpu[row*N + col] = 0;\n",
        "      c_gpu[row*N + col] = 0;\n",
        "    }\n",
        "/*\n",
        "   * Assign `threads_per_block` and `number_of_blocks` 2D values\n",
        "   * that can be used in matrixMulGPU above.\n",
        "   */\n",
        "dim3 threads_per_block(32, 32, 1);\n",
        "  dim3 number_of_blocks(N / threads_per_block.x + 1, N / threads_per_block.y + 1, 1);\n",
        "matrixMulGPU <<< number_of_blocks, threads_per_block >>> ( a, b, c_gpu );\n",
        "checkCudaErr(cudaDeviceSynchronize(), \"Syncronization\");\n",
        "checkCudaErr(cudaGetLastError(), \"GPU\");\n",
        "// Call the CPU version to check our work\n",
        "  matrixMulCPU( a, b, c_cpu );\n",
        "// Compare the two answers to make sure they are equal\n",
        "  bool error = false;\n",
        "  for( int row = 0; row < N && !error; ++row )\n",
        "    for( int col = 0; col < N && !error; ++col )\n",
        "      if (c_cpu[row * N + col] != c_gpu[row * N + col])\n",
        "      {\n",
        "        printf(\"FOUND ERROR at c[%d][%d]\\n\", row, col);\n",
        "        error = true;\n",
        "        break;\n",
        "      }\n",
        "if (!error)\n",
        "    printf(\"Success!\\n\");\n",
        "// Free all our allocated memory\n",
        "  cudaFree(a); cudaFree(b);\n",
        "  cudaFree( c_cpu ); cudaFree( c_gpu );\n",
        "}"
      ],
      "execution_count": null,
      "outputs": [
        {
          "output_type": "stream",
          "text": [
            "Success!\n",
            "\n"
          ],
          "name": "stdout"
        }
      ]
    },
    {
      "cell_type": "code",
      "metadata": {
        "id": "egsl9Hkgp-Hl",
        "colab_type": "code",
        "colab": {}
      },
      "source": [
        "!git clone https://github.com/alexminnaar/cublas_vs_numpy.git"
      ],
      "execution_count": null,
      "outputs": []
    },
    {
      "cell_type": "code",
      "metadata": {
        "id": "Agtq32s8qDhY",
        "colab_type": "code",
        "colab": {}
      },
      "source": [
        "!ls -la"
      ],
      "execution_count": null,
      "outputs": []
    },
    {
      "cell_type": "code",
      "metadata": {
        "id": "-J6M4_xiqLCp",
        "colab_type": "code",
        "colab": {}
      },
      "source": [
        "!apt-get install nvidia-cuda-toolkit"
      ],
      "execution_count": null,
      "outputs": []
    },
    {
      "cell_type": "code",
      "metadata": {
        "id": "oUVTJZvlqYfc",
        "colab_type": "code",
        "colab": {}
      },
      "source": [
        "import numpy\n",
        "import ctypes\n",
        "import time\n",
        "import matplotlib.pyplot as plt\n",
        "\n",
        "E = ctypes.cdll.LoadLibrary(\"/content/cublas_vs_numpy/cublas_test.so\")\n",
        "\n",
        "cublas_times = []\n",
        "numpy_times = []\n",
        "dims = []\n",
        "\n",
        "def cublas_mm(matrix_dim):\n",
        "    N = matrix_dim * matrix_dim\n",
        "\n",
        "    m1 = numpy.ones((N), dtype=numpy.float32)\n",
        "    m2 = numpy.ones((N), dtype=numpy.float32)\n",
        "    output_m = numpy.ones((N), dtype=numpy.float32)\n",
        "\n",
        "    t0 = time.time()\n",
        "\n",
        "    E.run(ctypes.c_void_p(m1.ctypes.data),\n",
        "          ctypes.c_void_p(m2.ctypes.data),\n",
        "          ctypes.c_void_p(output_m.ctypes.data),\n",
        "          ctypes.c_int(matrix_dim))\n",
        "\n",
        "    t1 = time.time()\n",
        "    return t1 - t0\n",
        "\n",
        "\n",
        "def numpy_mm(matrix_dim):\n",
        "    m1 = numpy.ones((matrix_dim, matrix_dim), dtype=numpy.float32)\n",
        "    m2 = numpy.ones((matrix_dim, matrix_dim), dtype=numpy.float32)\n",
        "\n",
        "    t0 = time.time()\n",
        "\n",
        "    _ = numpy.dot(m1, m2)\n",
        "\n",
        "    t1 = time.time()\n",
        "    return t1 - t0\n",
        "\n",
        "\n",
        "for i in range(1, 1000, 10):\n",
        "\n",
        "    print(i)\n",
        "    cur_cublas = []\n",
        "    cur_numpy = []\n",
        "\n",
        "    for _ in range(100):\n",
        "        cur_cublas.append(cublas_mm(i))\n",
        "        cur_numpy.append(numpy_mm(i))\n",
        "\n",
        "    cublas_times.append(numpy.mean(cur_cublas))\n",
        "    numpy_times.append(numpy.mean(cur_numpy))\n",
        "    dims.append(i)\n",
        "\n",
        "plt.plot(dims, cublas_times, label='cublas')\n",
        "plt.plot(dims, numpy_times, label='numpy')\n",
        "plt.legend()\n",
        "plt.xlabel(\"Input Matrix Dimension\")\n",
        "plt.ylabel(\"Computation Time\")\n",
        "plt.savefig('cublas_vs_numpy.png')\n",
        "plt.show()"
      ],
      "execution_count": null,
      "outputs": []
    },
    {
      "cell_type": "markdown",
      "metadata": {
        "id": "e96nT2QZ1oV0",
        "colab_type": "text"
      },
      "source": [
        "# Nova seção"
      ]
    },
    {
      "cell_type": "code",
      "metadata": {
        "id": "MYIn80jTmpmB",
        "colab_type": "code",
        "colab": {}
      },
      "source": [
        "%%cu\n",
        "//Example 1. Application Using C and cuBLAS: 1-based indexing\n",
        "//-----------------------------------------------------------\n",
        "#include <stdio.h>\n",
        "#include <stdlib.h>\n",
        "#include <math.h>\n",
        "#include <cuda_runtime.h>\n",
        "#include \"cublas_v2.h\"\n",
        "#define M 6\n",
        "#define N 5\n",
        "#define IDX2F(i,j,ld) ((((j)-1)*(ld))+((i)-1))\n",
        "static __inline__ void modify (cublasHandle_t handle, float *m, int ldm, int\n",
        " n, int p, int q, float alpha, float beta){\n",
        " cublasSscal (handle, n-q+1, &alpha, &m[IDX2F(p,q,ldm)], ldm);\n",
        " cublasSscal (handle, ldm-p+1, &beta, &m[IDX2F(p,q,ldm)], 1);\n",
        "}\n",
        "int main (void){\n",
        " cudaError_t cudaStat;\n",
        " cublasStatus_t stat;\n",
        " cublasHandle_t handle;\n",
        " int i, j;\n",
        " float* devPtrA;\n",
        " float* a = 0;\n",
        " a = (float *)malloc (M * N * sizeof (*a));\n",
        " if (!a) {\n",
        " printf (\"host memory allocation failed\");\n",
        " return EXIT_FAILURE;\n",
        " }\n",
        " for (j = 1; j <= N; j++) {\n",
        " for (i = 1; i <= M; i++) {\n",
        " a[IDX2F(i,j,M)] = (float)((i-1) * M + j);\n",
        " }\n",
        " }\n",
        " cudaStat = cudaMalloc ((void**)&devPtrA, M*N*sizeof(*a));\n",
        " if (cudaStat != cudaSuccess) {\n",
        " printf (\"device memory allocation failed\");\n",
        " return EXIT_FAILURE;\n",
        " }\n",
        " stat = cublasCreate(&handle);\n",
        " if (stat != CUBLAS_STATUS_SUCCESS) {\n",
        " printf (\"CUBLAS initialization failed\\n\");\n",
        " return EXIT_FAILURE;\n",
        " }\n",
        " stat = cublasSetMatrix (M, N, sizeof(*a), a, M, devPtrA, M);\n",
        " if (stat != CUBLAS_STATUS_SUCCESS) {\n",
        " printf (\"data download failed\");\n",
        " cudaFree (devPtrA);\n",
        " cublasDestroy(handle);\n",
        " return EXIT_FAILURE;\n",
        " }\n",
        " modify (handle, devPtrA, M, N, 2, 3, 16.0f, 12.0f);\n",
        " stat = cublasGetMatrix (M, N, sizeof(*a), devPtrA, M, a, M);\n",
        " if (stat != CUBLAS_STATUS_SUCCESS) {\n",
        " printf (\"data upload failed\");\n",
        " cudaFree (devPtrA);\n",
        " cublasDestroy(handle);\n",
        " return EXIT_FAILURE;\n",
        " }\n",
        " cudaFree (devPtrA);\n",
        " cublasDestroy(handle);\n",
        " for (j = 1; j <= N; j++) {\n",
        " for (i = 1; i <= M; i++) {\n",
        " printf (\"%7.0f\", a[IDX2F(i,j,M)]);\n",
        " }\n",
        " printf (\"\\n\");\n",
        " }\n",
        " free(a);\n",
        " return EXIT_SUCCESS;\n",
        "}"
      ],
      "execution_count": null,
      "outputs": []
    }
  ]
}